{
  "nbformat": 4,
  "nbformat_minor": 0,
  "metadata": {
    "colab": {
      "name": "SVM-Baseline-Model.ipynb",
      "provenance": [],
      "collapsed_sections": [
        "D149AOifDP-j",
        "XCikjXleNSgr"
      ]
    },
    "kernelspec": {
      "name": "python3",
      "display_name": "Python 3"
    }
  },
  "cells": [
    {
      "cell_type": "markdown",
      "metadata": {
        "id": "iA-cN5146-hU",
        "colab_type": "text"
      },
      "source": [
        "#Importing Data"
      ]
    },
    {
      "cell_type": "markdown",
      "metadata": {
        "id": "b7rVjwl0vhqH",
        "colab_type": "text"
      },
      "source": [
        "https://github.com/nikhilraghava/PyTorch-SVM"
      ]
    },
    {
      "cell_type": "code",
      "metadata": {
        "id": "xJ8nR5XA63eB",
        "colab_type": "code",
        "outputId": "e26fc23a-3f9f-4490-8dfa-82efc3096e7f",
        "colab": {
          "base_uri": "https://localhost:8080/",
          "height": 204
        }
      },
      "source": [
        "# install kaggle to access dataset\n",
        "!pip install kaggle"
      ],
      "execution_count": 0,
      "outputs": [
        {
          "output_type": "stream",
          "text": [
            "Requirement already satisfied: kaggle in /usr/local/lib/python3.6/dist-packages (1.5.6)\n",
            "Requirement already satisfied: python-dateutil in /usr/local/lib/python3.6/dist-packages (from kaggle) (2.8.1)\n",
            "Requirement already satisfied: six>=1.10 in /usr/local/lib/python3.6/dist-packages (from kaggle) (1.12.0)\n",
            "Requirement already satisfied: urllib3<1.25,>=1.21.1 in /usr/local/lib/python3.6/dist-packages (from kaggle) (1.24.3)\n",
            "Requirement already satisfied: certifi in /usr/local/lib/python3.6/dist-packages (from kaggle) (2019.11.28)\n",
            "Requirement already satisfied: tqdm in /usr/local/lib/python3.6/dist-packages (from kaggle) (4.28.1)\n",
            "Requirement already satisfied: python-slugify in /usr/local/lib/python3.6/dist-packages (from kaggle) (4.0.0)\n",
            "Requirement already satisfied: requests in /usr/local/lib/python3.6/dist-packages (from kaggle) (2.21.0)\n",
            "Requirement already satisfied: text-unidecode>=1.3 in /usr/local/lib/python3.6/dist-packages (from python-slugify->kaggle) (1.3)\n",
            "Requirement already satisfied: idna<2.9,>=2.5 in /usr/local/lib/python3.6/dist-packages (from requests->kaggle) (2.8)\n",
            "Requirement already satisfied: chardet<3.1.0,>=3.0.2 in /usr/local/lib/python3.6/dist-packages (from requests->kaggle) (3.0.4)\n"
          ],
          "name": "stdout"
        }
      ]
    },
    {
      "cell_type": "code",
      "metadata": {
        "id": "bWfZHzuN7IxN",
        "colab_type": "code",
        "outputId": "c062fdf2-1af3-4fe9-e332-624137ec4a01",
        "colab": {
          "base_uri": "https://localhost:8080/",
          "height": 34
        }
      },
      "source": [
        "# enable kaggle API\n",
        "# note: you NEED to have your kaggle token saved in drive for this to work (https://github.com/Kaggle/kaggle-api)\n",
        "from googleapiclient.discovery import build\n",
        "import io, os\n",
        "from googleapiclient.http import MediaIoBaseDownload\n",
        "from google.colab import auth\n",
        "auth.authenticate_user()\n",
        "drive_service = build('drive', 'v3')\n",
        "results = drive_service.files().list(\n",
        "        q=\"name = 'kaggle.json'\", fields=\"files(id)\").execute()\n",
        "kaggle_api_key = results.get('files', [])\n",
        "filename = \"/root/.kaggle/kaggle.json\"\n",
        "os.makedirs(os.path.dirname(filename), exist_ok=True)\n",
        "request = drive_service.files().get_media(fileId=kaggle_api_key[0]['id'])\n",
        "fh = io.FileIO(filename, 'wb')\n",
        "downloader = MediaIoBaseDownload(fh, request)\n",
        "done = False\n",
        "while done is False:\n",
        "    status, done = downloader.next_chunk()\n",
        "    print(\"Download %d%%.\" % int(status.progress() * 100))\n",
        "os.chmod(filename, 600)"
      ],
      "execution_count": 0,
      "outputs": [
        {
          "output_type": "stream",
          "text": [
            "Download 100%.\n"
          ],
          "name": "stdout"
        }
      ]
    },
    {
      "cell_type": "code",
      "metadata": {
        "id": "uktunDXW_iDD",
        "colab_type": "code",
        "colab": {}
      },
      "source": [
        " from kaggle.api.kaggle_api_extended import KaggleApi\n",
        " api = KaggleApi()\n",
        " api.authenticate()"
      ],
      "execution_count": 0,
      "outputs": []
    },
    {
      "cell_type": "code",
      "metadata": {
        "id": "2JHW-BIo_lou",
        "colab_type": "code",
        "colab": {}
      },
      "source": [
        "# download HASYV2 dataset\n",
        "api.dataset_download_files('guru001/hasyv2')"
      ],
      "execution_count": 0,
      "outputs": []
    },
    {
      "cell_type": "code",
      "metadata": {
        "id": "lIm0QyDI_o1q",
        "colab_type": "code",
        "colab": {}
      },
      "source": [
        "# unzip data\n",
        "!unzip hasyv2.zip"
      ],
      "execution_count": 0,
      "outputs": []
    },
    {
      "cell_type": "markdown",
      "metadata": {
        "id": "scjuT1_fiHL0",
        "colab_type": "text"
      },
      "source": [
        "##SVM in Sci-kit learn"
      ]
    },
    {
      "cell_type": "code",
      "metadata": {
        "id": "00-E9qf0iGvX",
        "colab_type": "code",
        "colab": {}
      },
      "source": [
        "from pathlib import Path\n",
        "import matplotlib.pyplot as plt\n",
        "import numpy as np\n",
        "%matplotlib notebook\n",
        "from sklearn import svm, metrics, datasets\n",
        "from sklearn.utils import Bunch\n",
        "from sklearn.model_selection import GridSearchCV, train_test_split\n",
        "\n",
        "from skimage.io import imread\n",
        "from skimage.transform import resize"
      ],
      "execution_count": 0,
      "outputs": []
    },
    {
      "cell_type": "markdown",
      "metadata": {
        "id": "D149AOifDP-j",
        "colab_type": "text"
      },
      "source": [
        "##Train test split"
      ]
    },
    {
      "cell_type": "code",
      "metadata": {
        "id": "Bkl9Dp8xD8s6",
        "colab_type": "code",
        "colab": {}
      },
      "source": [
        "from PIL import Image\n",
        "import pandas as pd\n",
        "import matplotlib.pyplot as plt\n",
        "from torch.utils.data import Dataset\n",
        "import torch\n",
        "import torchvision.transforms as transforms\n",
        "import numpy as np\n",
        "from torch import nn"
      ],
      "execution_count": 0,
      "outputs": []
    },
    {
      "cell_type": "code",
      "metadata": {
        "id": "MJY1yqOQEFrJ",
        "colab_type": "code",
        "colab": {}
      },
      "source": [
        "# creating own DatasetClass (this is like an ImageFolder, except custom so that we don't have to arrange images in a directory by label)\n",
        "class SymbolsDataset(Dataset):\n",
        "    def __init__(self, labels_path, imgs_path):\n",
        "        \"\"\"\n",
        "        Initialize data set as a list of IDs corresponding to each item of data set\n",
        "        :param img_dir: path to image files as a uncompressed tar archive\n",
        "        :param txt_path: a text file containing names of all of images line by line\n",
        "        \"\"\"\n",
        "        # Read in the dataframe\n",
        "        data = pd.read_csv(labels_path, sep=',', index_col=0)\n",
        "        \n",
        "        # Convert the column into a list\n",
        "        master_list = []\n",
        "        for i in range(168233):\n",
        "          master_list.append(data.iloc[i, 1])\n",
        "\n",
        "        # Extract just the unique values (i.e. the set)\n",
        "        unique = np.unique(master_list)\n",
        "\n",
        "        # Create a mapping between each symbol and an ID in [0,...,368]\n",
        "        dict_id = {}\n",
        "        i = 0\n",
        "        for symbol in unique:\n",
        "          dict_id[symbol] = i\n",
        "          i = i + 1\n",
        "\n",
        "        # Add an class_id column to represent the class for each\n",
        "        data[\"class_id\"] = 0\n",
        "\n",
        "        # Iterate through the dataframe and add in the new id\n",
        "        for i in range(168233):\n",
        "          data.iloc[i, 3] = dict_id[data.iloc[i, 1]]\n",
        "\n",
        "        # Finally, declare self.df\n",
        "        self.df = data\n",
        "        self.img_names = self.df.index.values\n",
        "        self.labels_path = labels_path\n",
        "        self.imgs_path = imgs_path\n",
        "        self.transform = transforms.Compose([transforms.ToTensor()])\n",
        "\n",
        "    def get_image_from_folder(self, name):\n",
        "        \"\"\"\n",
        "        gets a image by a name gathered from file list text file\n",
        "        :param name: name of targeted image\n",
        "        :return: a PIL image\n",
        "        \"\"\"\n",
        "        image = Image.open(os.path.join(self.imgs_path, name))\n",
        "        return image\n",
        "\n",
        "    def __len__(self):\n",
        "        \"\"\"\n",
        "        Return the length of data set using list of IDs\n",
        "        :return: number of samples in data set\n",
        "        \"\"\"\n",
        "        return len(self.img_names)\n",
        "\n",
        "    def __getitem__(self, index):\n",
        "        \"\"\"\n",
        "        Generate one item of data set. \n",
        "        \"\"\"\n",
        "        img = self.get_image_from_folder(self.img_names[index])\n",
        "        img = img.convert('L') # monochrome\n",
        "        img = self.transform(img)\n",
        "        #img = np.squeeze(img)\n",
        "        #lbl = self.df.iloc[index][1]\n",
        "        lbl = torch.tensor(self.df.iloc[index][3])\n",
        "\n",
        "        return (img, lbl)"
      ],
      "execution_count": 0,
      "outputs": []
    },
    {
      "cell_type": "code",
      "metadata": {
        "id": "t_URHGwHELVj",
        "colab_type": "code",
        "colab": {}
      },
      "source": [
        "imgs_path = 'hasyv2/'\n",
        "labels_path = 'hasyv2/hasy-data-labels.csv'"
      ],
      "execution_count": 0,
      "outputs": []
    },
    {
      "cell_type": "code",
      "metadata": {
        "id": "peF3DsmBEONH",
        "colab_type": "code",
        "colab": {}
      },
      "source": [
        "# Create dataset instance\n",
        "HASYv2 = SymbolsDataset(labels_path, imgs_path)"
      ],
      "execution_count": 0,
      "outputs": []
    },
    {
      "cell_type": "code",
      "metadata": {
        "id": "O6O9ojWFERkm",
        "colab_type": "code",
        "outputId": "7ad8880b-c801-4527-9a68-6f81ed07516f",
        "colab": {
          "base_uri": "https://localhost:8080/",
          "height": 450
        }
      },
      "source": [
        "HASYv2.df"
      ],
      "execution_count": 0,
      "outputs": [
        {
          "output_type": "execute_result",
          "data": {
            "text/html": [
              "<div>\n",
              "<style scoped>\n",
              "    .dataframe tbody tr th:only-of-type {\n",
              "        vertical-align: middle;\n",
              "    }\n",
              "\n",
              "    .dataframe tbody tr th {\n",
              "        vertical-align: top;\n",
              "    }\n",
              "\n",
              "    .dataframe thead th {\n",
              "        text-align: right;\n",
              "    }\n",
              "</style>\n",
              "<table border=\"1\" class=\"dataframe\">\n",
              "  <thead>\n",
              "    <tr style=\"text-align: right;\">\n",
              "      <th></th>\n",
              "      <th>symbol_id</th>\n",
              "      <th>latex</th>\n",
              "      <th>user_id</th>\n",
              "      <th>class_id</th>\n",
              "    </tr>\n",
              "    <tr>\n",
              "      <th>path</th>\n",
              "      <th></th>\n",
              "      <th></th>\n",
              "      <th></th>\n",
              "      <th></th>\n",
              "    </tr>\n",
              "  </thead>\n",
              "  <tbody>\n",
              "    <tr>\n",
              "      <th>hasy-data/v2-00000.png</th>\n",
              "      <td>31</td>\n",
              "      <td>A</td>\n",
              "      <td>50</td>\n",
              "      <td>15</td>\n",
              "    </tr>\n",
              "    <tr>\n",
              "      <th>hasy-data/v2-00001.png</th>\n",
              "      <td>31</td>\n",
              "      <td>A</td>\n",
              "      <td>10</td>\n",
              "      <td>15</td>\n",
              "    </tr>\n",
              "    <tr>\n",
              "      <th>hasy-data/v2-00002.png</th>\n",
              "      <td>31</td>\n",
              "      <td>A</td>\n",
              "      <td>43</td>\n",
              "      <td>15</td>\n",
              "    </tr>\n",
              "    <tr>\n",
              "      <th>hasy-data/v2-00003.png</th>\n",
              "      <td>31</td>\n",
              "      <td>A</td>\n",
              "      <td>43</td>\n",
              "      <td>15</td>\n",
              "    </tr>\n",
              "    <tr>\n",
              "      <th>hasy-data/v2-00004.png</th>\n",
              "      <td>31</td>\n",
              "      <td>A</td>\n",
              "      <td>4435</td>\n",
              "      <td>15</td>\n",
              "    </tr>\n",
              "    <tr>\n",
              "      <th>...</th>\n",
              "      <td>...</td>\n",
              "      <td>...</td>\n",
              "      <td>...</td>\n",
              "      <td>...</td>\n",
              "    </tr>\n",
              "    <tr>\n",
              "      <th>hasy-data/v2-168228.png</th>\n",
              "      <td>1400</td>\n",
              "      <td>\\guillemotleft</td>\n",
              "      <td>16925</td>\n",
              "      <td>143</td>\n",
              "    </tr>\n",
              "    <tr>\n",
              "      <th>hasy-data/v2-168229.png</th>\n",
              "      <td>1400</td>\n",
              "      <td>\\guillemotleft</td>\n",
              "      <td>16925</td>\n",
              "      <td>143</td>\n",
              "    </tr>\n",
              "    <tr>\n",
              "      <th>hasy-data/v2-168230.png</th>\n",
              "      <td>1400</td>\n",
              "      <td>\\guillemotleft</td>\n",
              "      <td>16925</td>\n",
              "      <td>143</td>\n",
              "    </tr>\n",
              "    <tr>\n",
              "      <th>hasy-data/v2-168231.png</th>\n",
              "      <td>1400</td>\n",
              "      <td>\\guillemotleft</td>\n",
              "      <td>16925</td>\n",
              "      <td>143</td>\n",
              "    </tr>\n",
              "    <tr>\n",
              "      <th>hasy-data/v2-168232.png</th>\n",
              "      <td>1400</td>\n",
              "      <td>\\guillemotleft</td>\n",
              "      <td>16925</td>\n",
              "      <td>143</td>\n",
              "    </tr>\n",
              "  </tbody>\n",
              "</table>\n",
              "<p>168233 rows × 4 columns</p>\n",
              "</div>"
            ],
            "text/plain": [
              "                         symbol_id           latex  user_id  class_id\n",
              "path                                                                 \n",
              "hasy-data/v2-00000.png          31               A       50        15\n",
              "hasy-data/v2-00001.png          31               A       10        15\n",
              "hasy-data/v2-00002.png          31               A       43        15\n",
              "hasy-data/v2-00003.png          31               A       43        15\n",
              "hasy-data/v2-00004.png          31               A     4435        15\n",
              "...                            ...             ...      ...       ...\n",
              "hasy-data/v2-168228.png       1400  \\guillemotleft    16925       143\n",
              "hasy-data/v2-168229.png       1400  \\guillemotleft    16925       143\n",
              "hasy-data/v2-168230.png       1400  \\guillemotleft    16925       143\n",
              "hasy-data/v2-168231.png       1400  \\guillemotleft    16925       143\n",
              "hasy-data/v2-168232.png       1400  \\guillemotleft    16925       143\n",
              "\n",
              "[168233 rows x 4 columns]"
            ]
          },
          "metadata": {
            "tags": []
          },
          "execution_count": 11
        }
      ]
    },
    {
      "cell_type": "code",
      "metadata": {
        "id": "-NOW0ek2ESAv",
        "colab_type": "code",
        "colab": {}
      },
      "source": [
        "# create data_loader\n",
        "data_loader = torch.utils.data.DataLoader(HASYv2,\n",
        "                                          batch_size=1,\n",
        "                                          shuffle=True,\n",
        "                                          num_workers=1)"
      ],
      "execution_count": 0,
      "outputs": []
    },
    {
      "cell_type": "code",
      "metadata": {
        "id": "qLspEr4OEW9b",
        "colab_type": "code",
        "colab": {}
      },
      "source": [
        "# display test images\n",
        "# stolen from tutorial 3b\n",
        "def show20(data):\n",
        "    plt.figure(figsize=(10,2))\n",
        "    for n, (img, label) in enumerate(data):\n",
        "        if n >= 20:\n",
        "            break\n",
        "        plt.subplot(2, 10, n+1)\n",
        "        # print(img.shape)\n",
        "        img = np.squeeze(img)\n",
        "        plt.imshow(img)"
      ],
      "execution_count": 0,
      "outputs": []
    },
    {
      "cell_type": "code",
      "metadata": {
        "id": "QAlznMVhEco7",
        "colab_type": "code",
        "outputId": "ec999e8e-0985-4708-a72d-622af80e0b78",
        "colab": {
          "base_uri": "https://localhost:8080/",
          "height": 158
        }
      },
      "source": [
        "show20(data_loader)"
      ],
      "execution_count": 0,
      "outputs": [
        {
          "output_type": "display_data",
          "data": {
            "image/png": "[encoded data removed]",
            "text/plain": [
              "<Figure size 720x144 with 20 Axes>"
            ]
          },
          "metadata": {
            "tags": []
          }
        }
      ]
    },
    {
      "cell_type": "code",
      "metadata": {
        "id": "UdpCess5DSkF",
        "colab_type": "code",
        "outputId": "4d95c115-af55-420c-ea61-b89b7d4d459d",
        "colab": {
          "base_uri": "https://localhost:8080/",
          "height": 34
        }
      },
      "source": [
        "len(HASYv2)"
      ],
      "execution_count": 0,
      "outputs": [
        {
          "output_type": "execute_result",
          "data": {
            "text/plain": [
              "168233"
            ]
          },
          "metadata": {
            "tags": []
          },
          "execution_count": 15
        }
      ]
    },
    {
      "cell_type": "code",
      "metadata": {
        "id": "F4MqIs-uMj8D",
        "colab_type": "code",
        "colab": {}
      },
      "source": [
        "from torch.utils.data.sampler import SubsetRandomSampler\n",
        "\n",
        "# hyperparameters: update batch size, test/validation split\n",
        "batch_size = 1000\n",
        "test_val_split = 0.2\n",
        "\n",
        "# Creating data indices for training and validation splits:\n",
        "dataset_size = len(HASYv2)\n",
        "indices = list(range(dataset_size))\n",
        "split = int(np.floor(test_val_split * dataset_size))\n",
        "\n",
        "np.random.seed(3)\n",
        "np.random.shuffle(indices)\n",
        "\n",
        "test_indices, val_indices, train_indices = indices[:split], indices[split:2*split], indices[2*split:]\n",
        "\n",
        "# Creating PT data samplers and loaders:\n",
        "train_sampler = SubsetRandomSampler(train_indices)\n",
        "valid_sampler = SubsetRandomSampler(val_indices)\n",
        "test_sampler = SubsetRandomSampler(test_indices)\n",
        "\n",
        "train_loader = torch.utils.data.DataLoader(HASYv2, batch_size=batch_size, \n",
        "                                           sampler=train_sampler)\n",
        "validation_loader = torch.utils.data.DataLoader(HASYv2, batch_size=batch_size,\n",
        "                                                sampler=valid_sampler)\n",
        "test_loader = torch.utils.data.DataLoader(HASYv2, batch_size=batch_size,\n",
        "                                                sampler=test_sampler)"
      ],
      "execution_count": 0,
      "outputs": []
    },
    {
      "cell_type": "code",
      "metadata": {
        "id": "0kZZFZtCMmi8",
        "colab_type": "code",
        "outputId": "60d50ae8-1b36-4ad5-cdaf-9180b4dfd5d3",
        "colab": {
          "base_uri": "https://localhost:8080/",
          "height": 34
        }
      },
      "source": [
        "len(test_indices) + len(train_indices) + len(val_indices)"
      ],
      "execution_count": 0,
      "outputs": [
        {
          "output_type": "execute_result",
          "data": {
            "text/plain": [
              "168233"
            ]
          },
          "metadata": {
            "tags": []
          },
          "execution_count": 17
        }
      ]
    },
    {
      "cell_type": "code",
      "metadata": {
        "id": "y04HbKy2MpOc",
        "colab_type": "code",
        "outputId": "471303c7-4f85-43c9-e46a-b448eee51d7c",
        "colab": {
          "base_uri": "https://localhost:8080/",
          "height": 68
        }
      },
      "source": [
        "print(\"training size: \" + str(len(train_indices)))\n",
        "print(\"validation size: \" + str(len(val_indices)))\n",
        "print(\"test size: \" + str(len(test_indices)))"
      ],
      "execution_count": 0,
      "outputs": [
        {
          "output_type": "stream",
          "text": [
            "training size: 100941\n",
            "validation size: 33646\n",
            "test size: 33646\n"
          ],
          "name": "stdout"
        }
      ]
    },
    {
      "cell_type": "markdown",
      "metadata": {
        "id": "XCikjXleNSgr",
        "colab_type": "text"
      },
      "source": [
        "##Training and get_accuracy functions"
      ]
    },
    {
      "cell_type": "code",
      "metadata": {
        "id": "SwrwytI0NVpl",
        "colab_type": "code",
        "colab": {}
      },
      "source": [
        "from torch.utils.data.sampler import SubsetRandomSampler\n",
        "# hyperparameters: update batch size, test/validation split\n",
        "batch_size_dumb = 10\n",
        "test_val_split_dumb = 0.2\n",
        "\n",
        "# Creating data indices for training and validation splits:\n",
        "dataset_size_dumb = 50\n",
        "indices_dumb = list(range(dataset_size_dumb))\n",
        "split_dumb = int(np.floor(test_val_split_dumb * dataset_size_dumb))\n",
        "\n",
        "np.random.seed(3)\n",
        "np.random.shuffle(indices_dumb)\n",
        "\n",
        "test_indices_dumb, val_indices_dumb, train_indices_dumb = indices_dumb[:split_dumb], indices_dumb[split_dumb:2*split_dumb], indices_dumb[2*split_dumb:]\n",
        "\n",
        "# Creating PT data samplers and loaders:\n",
        "train_sampler_dumb = SubsetRandomSampler(train_indices_dumb)\n",
        "valid_sampler_dumb = SubsetRandomSampler(val_indices_dumb)\n",
        "test_sampler_dumb = SubsetRandomSampler(test_indices_dumb)\n",
        "\n",
        "train_loader_dumb = torch.utils.data.DataLoader(HASYv2, batch_size=batch_size_dumb, \n",
        "                                           sampler=train_sampler_dumb)\n",
        "validation_loader_dumb = torch.utils.data.DataLoader(HASYv2, batch_size=batch_size_dumb,\n",
        "                                                sampler=valid_sampler_dumb)\n",
        "test_loader_dumb = torch.utils.data.DataLoader(HASYv2, batch_size=batch_size_dumb,\n",
        "                                                sampler=test_sampler_dumb)"
      ],
      "execution_count": 0,
      "outputs": []
    },
    {
      "cell_type": "code",
      "metadata": {
        "id": "2hMTkk3QNYNT",
        "colab_type": "code",
        "outputId": "ab4434aa-0a69-4b26-8aa4-67812f06cb05",
        "colab": {
          "base_uri": "https://localhost:8080/",
          "height": 68
        }
      },
      "source": [
        "for img, labels in iter(train_loader_dumb):\n",
        "  print(labels)"
      ],
      "execution_count": 0,
      "outputs": [
        {
          "output_type": "stream",
          "text": [
            "tensor([17, 18, 15, 17, 16, 16, 15, 17, 16, 17])\n",
            "tensor([15, 15, 15, 15, 15, 15, 15, 17, 18, 16])\n",
            "tensor([17, 15, 15, 16, 17, 15, 17, 17, 18, 15])\n"
          ],
          "name": "stdout"
        }
      ]
    },
    {
      "cell_type": "code",
      "metadata": {
        "id": "g1s2EuXHNiIV",
        "colab_type": "code",
        "outputId": "0c5b5b55-0804-4261-d33c-700c0dc9c47b",
        "colab": {
          "base_uri": "https://localhost:8080/",
          "height": 34
        }
      },
      "source": [
        "for img, labels in iter(validation_loader_dumb):\n",
        "  print(labels)"
      ],
      "execution_count": 0,
      "outputs": [
        {
          "output_type": "stream",
          "text": [
            "tensor([16, 15, 15, 15, 15, 17, 17, 16, 17, 15])\n"
          ],
          "name": "stdout"
        }
      ]
    },
    {
      "cell_type": "code",
      "metadata": {
        "id": "WzqkioflNlDt",
        "colab_type": "code",
        "outputId": "3222cfba-904a-4e3b-c859-e5099f4d9818",
        "colab": {
          "base_uri": "https://localhost:8080/",
          "height": 34
        }
      },
      "source": [
        "for img, labels in iter(test_loader_dumb):\n",
        "  print(labels)"
      ],
      "execution_count": 0,
      "outputs": [
        {
          "output_type": "stream",
          "text": [
            "tensor([18, 17, 18, 15, 16, 15, 15, 18, 15, 17])\n"
          ],
          "name": "stdout"
        }
      ]
    },
    {
      "cell_type": "code",
      "metadata": {
        "id": "KNtJc8IKNpBc",
        "colab_type": "code",
        "colab": {}
      },
      "source": [
        "def get_model_name(name, batch_size, learning_rate, epoch):\n",
        "    \"\"\" Generate a name for the model consisting of all the hyperparameter values\n",
        "\n",
        "    Args:\n",
        "        config: Configuration object containing the hyperparameters\n",
        "    Returns:\n",
        "        path: A string with the hyperparameter name and value concatenated\n",
        "    \"\"\"\n",
        "    path = \"model_{0}_bs{1}_lr{2}_epoch{3}\".format(name,\n",
        "                                                   batch_size,\n",
        "                                                   learning_rate,\n",
        "                                                   epoch)\n",
        "    return path"
      ],
      "execution_count": 0,
      "outputs": []
    },
    {
      "cell_type": "code",
      "metadata": {
        "id": "o9rClLzpNr8c",
        "colab_type": "code",
        "colab": {}
      },
      "source": [
        "# Implement function for getting model accuracy\n",
        "\n",
        "def get_accuracy(model, data_loader):\n",
        "    correct = 0\n",
        "    total = 0\n",
        "    for imgs, labels in data_loader:\n",
        "        \n",
        "        if use_cuda and torch.cuda.is_available():\n",
        "          imgs = imgs.cuda()\n",
        "          labels = labels.cuda()\n",
        "\n",
        "        output = model(imgs)\n",
        "        #select index with maximum prediction score\n",
        "        pred = output.max(1, keepdim=True)[1]\n",
        "        correct += pred.eq(labels.view_as(pred)).sum().item()\n",
        "        total += imgs.shape[0]\n",
        "    return correct / total"
      ],
      "execution_count": 0,
      "outputs": []
    },
    {
      "cell_type": "code",
      "metadata": {
        "id": "6be5ZLHQNyDD",
        "colab_type": "code",
        "colab": {}
      },
      "source": [
        "# Define the training function\n",
        "\n",
        "def train(model, train_loader, valid_loader, num_epochs=10, learning_rate=1e-3):\n",
        "\n",
        "    torch.manual_seed(21)\n",
        "    # Use cross-entropy loss for this multi-class classification task\n",
        "    criterion = nn.CrossEntropyLoss()\n",
        "    optimizer = torch.optim.Adam(model.parameters(), lr=learning_rate)\n",
        "\n",
        "    # Declare arrays to store accuracy measures\n",
        "    train_acc, val_acc = [], []\n",
        "    train_loss, val_loss = [], []\n",
        "\n",
        "    # Below, we will track accuracy and loss on a per iteration basis\n",
        "\n",
        "    print(\"Training started...\")\n",
        "    for epoch in range(num_epochs):\n",
        "        total_train_loss = 0\n",
        "        total_val_loss = 0\n",
        "        i = 0\n",
        "\n",
        "        for imgs, labels in iter(train_loader):\n",
        "\n",
        "            if use_cuda and torch.cuda.is_available():\n",
        "                imgs = imgs.cuda()\n",
        "                labels = labels.cuda()\n",
        "              \n",
        "            #print(imgs.shape)\n",
        "            out = model(imgs)             # forward pass \n",
        "            #print(labels)   \n",
        "            #print(out)      \n",
        "            loss = criterion(out, labels) # compute the total loss\n",
        "            loss.backward()               # backward pass (compute parameter updates)\n",
        "            optimizer.step()              # make the updates for each parameter\n",
        "            optimizer.zero_grad()         # a clean up step for PyTorch\n",
        "            i = i + 1\n",
        "\n",
        "            total_train_loss = total_train_loss + loss.item()\n",
        "\n",
        "        # Compute the average train loss for this epoch\n",
        "        avg_train_loss = total_train_loss/i\n",
        "\n",
        "        # Add this avg loss to the tracker\n",
        "        train_loss.append(avg_train_loss)\n",
        "\n",
        "        j = 0\n",
        "        # Compute loss validation set as well\n",
        "        for imgs, labels in iter(valid_loader):\n",
        "            \n",
        "            if use_cuda and torch.cuda.is_available():\n",
        "                imgs = imgs.cuda()\n",
        "                labels = labels.cuda()\n",
        "\n",
        "            out = model(imgs)\n",
        "            loss = criterion(out, labels)\n",
        "            j = j + 1\n",
        "\n",
        "            total_val_loss = total_val_loss + loss.item()\n",
        "\n",
        "        # Compute the average validation loss for this epoch\n",
        "        avg_val_loss = total_val_loss/j\n",
        "\n",
        "        # Add this avg loss to the tracker\n",
        "        val_loss.append(avg_val_loss)\n",
        "\n",
        "        # Report the losses\n",
        "        print('Epoch #{}, Training Loss: {:.4f}, Validation Loss: {:.4f}'.format(epoch, float(avg_train_loss), float(avg_val_loss)))\n",
        "\n",
        "        # Store the accuracies for this epoch\n",
        "        train_acc.append(get_accuracy(model, train_loader))\n",
        "        val_acc.append(get_accuracy(model, valid_loader))\n",
        "        print(\"Epoch #{}, Training Accuracy: {:.4f}, Validation Accuracy: {:.4f}\".format(epoch, train_acc[-1], val_acc[-1]))\n",
        "\n",
        "        # Save the model every 3 epochs\n",
        "        if epoch%3 == 0:\n",
        "          model_path = get_model_name(model.name, batch_size, learning_rate, epoch)\n",
        "          torch.save(model.state_dict(), model_path)\n",
        "\n",
        "    epoch_set = range(num_epochs)\n",
        "\n",
        "    plt.title(\"Training vs. Validation Accuracy\")\n",
        "    plt.plot(epoch_set, train_acc, label=\"Train\")\n",
        "    plt.plot(epoch_set, val_acc, label=\"Validation\")\n",
        "    plt.xlabel(\"Epochs\")\n",
        "    plt.ylabel(\"Accuracy\")\n",
        "    plt.legend(loc='best')\n",
        "    plt.show()\n",
        "    \n",
        "    plt.title(\"Training vs. Validation Loss\")\n",
        "    plt.plot(epoch_set, train_loss, label=\"Train\")\n",
        "    plt.plot(epoch_set, val_loss, label=\"Validation\")\n",
        "    plt.xlabel(\"Epochs\")\n",
        "    plt.ylabel(\"Loss\")\n",
        "    plt.legend(loc='best')\n",
        "    plt.show()  "
      ],
      "execution_count": 0,
      "outputs": []
    },
    {
      "cell_type": "markdown",
      "metadata": {
        "id": "fb_9MxGZDLb1",
        "colab_type": "text"
      },
      "source": [
        "##Model"
      ]
    },
    {
      "cell_type": "code",
      "metadata": {
        "id": "6px9_OPhImiP",
        "colab_type": "code",
        "colab": {}
      },
      "source": [
        "import torch\n",
        "import torch.nn as nn\n",
        "import torch.optim as optim\n",
        "from torch.autograd import Variable\n",
        "\n",
        "#Support Vector Machine (SVM) is a subclass of the nn.Module class and to initialize our SVM\n",
        "\n",
        "class SVM(nn.Module):\n",
        "    \"\"\"\n",
        "    Linear Support Vector Machine\n",
        "    -----------------------------\n",
        "    This SVM is a subclass of the PyTorch nn module that\n",
        "    implements the Linear  function. The  size  of  each \n",
        "    input sample is 2 and output sample  is 1.\n",
        "    \"\"\"\n",
        "    def __init__(self):\n",
        "        super(SVM, self).__init__()# Call the init function of nn.Module\n",
        "        self.name = \"SVM_model\"\n",
        "        self.fully_connected = nn.Linear(64 * 4 * 4, 369)  # Implement the Linear function\n",
        "        \n",
        "#Forward function applies a linear transformation to the incoming data: y = Ax + b.\n",
        "    def forward(self, x):\n",
        "        x = x.view(x.size(0), -1)\n",
        "        fwd = self.fully_connected(x)  # Forward pass\n",
        "        return fwd"
      ],
      "execution_count": 0,
      "outputs": []
    },
    {
      "cell_type": "code",
      "metadata": {
        "id": "7lLlHPSbJPn7",
        "colab_type": "code",
        "colab": {}
      },
      "source": [
        "SVM_model = SVM()"
      ],
      "execution_count": 0,
      "outputs": []
    },
    {
      "cell_type": "code",
      "metadata": {
        "id": "Es8xBYKsN9UO",
        "colab_type": "code",
        "outputId": "730e7752-4403-4a3d-d89b-e95f8dee81bd",
        "colab": {
          "base_uri": "https://localhost:8080/",
          "height": 1000
        }
      },
      "source": [
        "train(SVM_model, train_loader, validation_loader, num_epochs=30, learning_rate=0.001)"
      ],
      "execution_count": 0,
      "outputs": [
        {
          "output_type": "stream",
          "text": [
            "Training started...\n",
            "Epoch #0, Training Loss: 5.1005, Validation Loss: 3.5324\n",
            "Epoch #0, Training Accuracy: 0.3753, Validation Accuracy: 0.3687\n",
            "Epoch #1, Training Loss: 3.0392, Validation Loss: 2.7657\n",
            "Epoch #1, Training Accuracy: 0.4762, Validation Accuracy: 0.4591\n",
            "Epoch #2, Training Loss: 2.5046, Validation Loss: 2.4578\n",
            "Epoch #2, Training Accuracy: 0.5234, Validation Accuracy: 0.4997\n",
            "Epoch #3, Training Loss: 2.2358, Validation Loss: 2.2633\n",
            "Epoch #3, Training Accuracy: 0.5577, Validation Accuracy: 0.5344\n",
            "Epoch #4, Training Loss: 2.0749, Validation Loss: 2.1550\n",
            "Epoch #4, Training Accuracy: 0.5689, Validation Accuracy: 0.5394\n",
            "Epoch #5, Training Loss: 1.9553, Validation Loss: 2.0678\n",
            "Epoch #5, Training Accuracy: 0.5939, Validation Accuracy: 0.5626\n",
            "Epoch #6, Training Loss: 1.8712, Validation Loss: 2.0216\n",
            "Epoch #6, Training Accuracy: 0.6025, Validation Accuracy: 0.5648\n",
            "Epoch #7, Training Loss: 1.8067, Validation Loss: 1.9830\n",
            "Epoch #7, Training Accuracy: 0.6138, Validation Accuracy: 0.5734\n",
            "Epoch #8, Training Loss: 1.7519, Validation Loss: 1.9448\n",
            "Epoch #8, Training Accuracy: 0.6224, Validation Accuracy: 0.5779\n",
            "Epoch #9, Training Loss: 1.7020, Validation Loss: 1.9160\n",
            "Epoch #9, Training Accuracy: 0.6313, Validation Accuracy: 0.5830\n",
            "Epoch #10, Training Loss: 1.6652, Validation Loss: 1.8917\n",
            "Epoch #10, Training Accuracy: 0.6385, Validation Accuracy: 0.5849\n",
            "Epoch #11, Training Loss: 1.6275, Validation Loss: 1.8778\n",
            "Epoch #11, Training Accuracy: 0.6425, Validation Accuracy: 0.5883\n",
            "Epoch #12, Training Loss: 1.6002, Validation Loss: 1.8639\n",
            "Epoch #12, Training Accuracy: 0.6493, Validation Accuracy: 0.5910\n",
            "Epoch #13, Training Loss: 1.5704, Validation Loss: 1.8507\n",
            "Epoch #13, Training Accuracy: 0.6519, Validation Accuracy: 0.5886\n",
            "Epoch #14, Training Loss: 1.5453, Validation Loss: 1.8429\n",
            "Epoch #14, Training Accuracy: 0.6545, Validation Accuracy: 0.5894\n",
            "Epoch #15, Training Loss: 1.5197, Validation Loss: 1.8167\n",
            "Epoch #15, Training Accuracy: 0.6680, Validation Accuracy: 0.6014\n",
            "Epoch #16, Training Loss: 1.4994, Validation Loss: 1.8197\n",
            "Epoch #16, Training Accuracy: 0.6693, Validation Accuracy: 0.6012\n",
            "Epoch #17, Training Loss: 1.4806, Validation Loss: 1.8136\n",
            "Epoch #17, Training Accuracy: 0.6763, Validation Accuracy: 0.6027\n",
            "Epoch #18, Training Loss: 1.4587, Validation Loss: 1.8037\n",
            "Epoch #18, Training Accuracy: 0.6750, Validation Accuracy: 0.6037\n",
            "Epoch #19, Training Loss: 1.4398, Validation Loss: 1.8066\n",
            "Epoch #19, Training Accuracy: 0.6786, Validation Accuracy: 0.6008\n",
            "Epoch #20, Training Loss: 1.4279, Validation Loss: 1.8060\n",
            "Epoch #20, Training Accuracy: 0.6763, Validation Accuracy: 0.5984\n",
            "Epoch #21, Training Loss: 1.4147, Validation Loss: 1.8046\n",
            "Epoch #21, Training Accuracy: 0.6858, Validation Accuracy: 0.6032\n",
            "Epoch #22, Training Loss: 1.3981, Validation Loss: 1.7949\n",
            "Epoch #22, Training Accuracy: 0.6918, Validation Accuracy: 0.6080\n",
            "Epoch #23, Training Loss: 1.3831, Validation Loss: 1.7924\n",
            "Epoch #23, Training Accuracy: 0.6902, Validation Accuracy: 0.6066\n",
            "Epoch #24, Training Loss: 1.3660, Validation Loss: 1.7879\n",
            "Epoch #24, Training Accuracy: 0.6936, Validation Accuracy: 0.6072\n",
            "Epoch #25, Training Loss: 1.3589, Validation Loss: 1.7924\n",
            "Epoch #25, Training Accuracy: 0.6947, Validation Accuracy: 0.6067\n",
            "Epoch #26, Training Loss: 1.3440, Validation Loss: 1.7869\n",
            "Epoch #26, Training Accuracy: 0.7017, Validation Accuracy: 0.6085\n",
            "Epoch #27, Training Loss: 1.3335, Validation Loss: 1.7796\n",
            "Epoch #27, Training Accuracy: 0.7001, Validation Accuracy: 0.6076\n",
            "Epoch #28, Training Loss: 1.3225, Validation Loss: 1.7751\n",
            "Epoch #28, Training Accuracy: 0.7079, Validation Accuracy: 0.6083\n",
            "Epoch #29, Training Loss: 1.3093, Validation Loss: 1.7854\n",
            "Epoch #29, Training Accuracy: 0.7028, Validation Accuracy: 0.6043\n"
          ],
          "name": "stdout"
        },
        {
          "output_type": "display_data",
          "data": {
            "image/png": "[encoded data removed]",
            "text/plain": [
              "<Figure size 432x288 with 1 Axes>"
            ]
          },
          "metadata": {
            "tags": []
          }
        },
        {
          "output_type": "display_data",
          "data": {
            "image/png": "[encoded data removed]",
            "text/plain": [
              "<Figure size 432x288 with 1 Axes>"
            ]
          },
          "metadata": {
            "tags": []
          }
        }
      ]
    }
  ]
}